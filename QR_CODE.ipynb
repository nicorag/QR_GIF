{
  "nbformat": 4,
  "nbformat_minor": 0,
  "metadata": {
    "colab": {
      "provenance": []
    },
    "kernelspec": {
      "name": "python3",
      "display_name": "Python 3"
    },
    "language_info": {
      "name": "python"
    }
  },
  "cells": [
    {
      "cell_type": "code",
      "execution_count": null,
      "metadata": {
        "colab": {
          "base_uri": "https://localhost:8080/"
        },
        "id": "TmSToUwJ-Zwt",
        "outputId": "dd4df737-7ae9-43ae-cb23-7a02955e0a72"
      },
      "outputs": [
        {
          "output_type": "stream",
          "name": "stdout",
          "text": [
            "Collecting qrcode-artistic\n",
            "  Downloading qrcode_artistic-3.0.2-py3-none-any.whl.metadata (4.3 kB)\n",
            "Collecting segno>=1.0.2 (from qrcode-artistic)\n",
            "  Downloading segno-1.6.1-py3-none-any.whl.metadata (7.9 kB)\n",
            "Requirement already satisfied: Pillow in /usr/local/lib/python3.10/dist-packages (from qrcode-artistic) (10.4.0)\n",
            "Downloading qrcode_artistic-3.0.2-py3-none-any.whl (7.6 kB)\n",
            "Downloading segno-1.6.1-py3-none-any.whl (73 kB)\n",
            "\u001b[2K   \u001b[90m━━━━━━━━━━━━━━━━━━━━━━━━━━━━━━━━━━━━━━━━\u001b[0m \u001b[32m73.9/73.9 kB\u001b[0m \u001b[31m2.7 MB/s\u001b[0m eta \u001b[36m0:00:00\u001b[0m\n",
            "\u001b[?25hInstalling collected packages: segno, qrcode-artistic\n",
            "Successfully installed qrcode-artistic-3.0.2 segno-1.6.1\n"
          ]
        }
      ],
      "source": [
        "!pip install qrcode-artistic"
      ]
    },
    {
      "cell_type": "code",
      "source": [
        "import segno\n",
        "\n",
        "qr=segno.make_qr(\"https://www.instagram.com/geomargen?igsh=MTAybDI1dWtlYXlicg==\")"
      ],
      "metadata": {
        "id": "8AnmOesE-2th"
      },
      "execution_count": null,
      "outputs": []
    },
    {
      "cell_type": "code",
      "source": [
        "qr.to_artistic(\n",
        "    background=\"/content/submarina.gif\",\n",
        "    target=\"/content/IG_QR.gif\",\n",
        "    scale=5,\n",
        ")"
      ],
      "metadata": {
        "id": "Wr4ZnueD-22J"
      },
      "execution_count": 3,
      "outputs": []
    }
  ]
}